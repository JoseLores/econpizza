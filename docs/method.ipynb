{
 "cells": [
  {
   "cell_type": "markdown",
   "metadata": {},
   "source": [
    "# The method behind econpizza with heterogenous agents"
   ]
  },
  {
   "cell_type": "markdown",
   "metadata": {},
   "source": [
    "The methodology extends Auclert et al. (2022, ECMA) to fully nonlinear functions. Let, for the sake of generality, letters with a tilde denote the complete expected time series of a variable up to some distant point in time $T$, e.g $\\tilde{x} = \\{x_{t}\\}_{t=0}^T$.\n",
    "Most heterogeneous agent models can be expressed in terms of the three functions $V$, $D$ and $F$:\n",
    "\n",
    "$$\n",
    "\\begin{align}\n",
    "v_t =& V(\\tilde{x}, v_{t+1})\\\\\n",
    "d_t =& D(\\tilde{x}, \\tilde{v}, d_{t-1})\\\\\n",
    "0 =& F(\\tilde{x}, \\tilde{d}, \\tilde{v})\n",
    "\\end{align}\n",
    "$$\n",
    "\n",
    "where $x_t$ is the time-$t$ vector of _aggregate_ variables, $v_t$ is the agents decision functions over the complete state space and $d_t$ is the distribution accross agents."
   ]
  },
  {
   "cell_type": "markdown",
   "metadata": {},
   "source": [
    "Let further the steady state values be denoted by a bar, i.e. $\\bar{x}$, $\\bar{d}$ and $\\bar{v}$."
   ]
  },
  {
   "cell_type": "markdown",
   "metadata": {},
   "source": [
    "$V$ often take the form of a value function. Note that the above assumes that $V$ is independent of the distribution at any point in time. Assuming that after $T$ we are back in the steady state, the sequence $\\tilde{v}$ can be found by starting with\n",
    "$$\n",
    "v_T = V(\\tilde{x}, \\bar{v})\n",
    "$$\n",
    "and iterating backwards until we arrive at $v_0$."
   ]
  },
  {
   "cell_type": "markdown",
   "metadata": {},
   "source": [
    "Now taking $v_0$ as given and assuming we are also in the steady state in $t=0$, we can start with $d_{-1}=\\bar{d}$ and iterate $D$ forward:\n",
    "\n",
    "$$\n",
    "d_0 = D(\\tilde{x}, \\tilde{v}, \\bar{d})\n",
    "$$\n",
    "until we arrive at $d_T$. This yields $\\tilde{d}$."
   ]
  },
  {
   "cell_type": "markdown",
   "metadata": {},
   "source": [
    "Denote the function that generates $\\tilde{v}$ from $\\tilde{x}$ as $\\hat{V}$, and a function that generates $\\tilde{d}$ from $\\tilde{x}$ and $\\tilde{v}$ as $\\hat{D}$. Then we can define\n",
    "$$\n",
    "G(\\tilde{x}) = F\\left(\\tilde{x}, \\hat{D}\\left(\\tilde{x}, \\hat{V}(\\tilde{x})\\right), \\hat{V}(\\tilde{x})\\right) = 0\n",
    "$$\n",
    "as a function that only depends on the sequence $\\tilde{x}$."
   ]
  },
  {
   "cell_type": "markdown",
   "metadata": {},
   "source": [
    "Given that the jacobian $J_G$ of $G(\\cdot)$ is available via automatic differentiation, we can then use a Newton method to solve for $\\tilde{x}$ directly without having to explicitely keep track of any distribution variable."
   ]
  }
 ],
 "metadata": {
  "@webio": {
   "lastCommId": null,
   "lastKernelId": null
  },
  "kernelspec": {
   "display_name": "Python 3 (ipykernel)",
   "language": "python",
   "name": "python3"
  },
  "language_info": {
   "codemirror_mode": {
    "name": "ipython",
    "version": 3
   },
   "file_extension": ".py",
   "mimetype": "text/x-python",
   "name": "python",
   "nbconvert_exporter": "python",
   "pygments_lexer": "ipython3",
   "version": "3.10.4"
  }
 },
 "nbformat": 4,
 "nbformat_minor": 2
}

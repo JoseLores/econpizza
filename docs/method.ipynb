{
 "cells": [
  {
   "cell_type": "markdown",
   "metadata": {},
   "source": [
    "Most heterogeneous agent models can be expressed in terms of three functions\n",
    "\n",
    "$$\n",
    "\\begin{align}\n",
    "v_t =& v(\\tilde{x}, v_{t+1})\\\\\n",
    "d_t =& d(\\tilde{x}, \\tilde{v}, d_{t-1})\\\\\n",
    "0 =& f(\\tilde{x}, \\tilde{d}, \\tilde{v})\n",
    "\\end{align}\n",
    "$$\n",
    "\n",
    "where $x_t$ is the time-$t$ vector of _aggregate_ variables, $v_t$ is the agents decision functions over the complete state space and $d_t$ is the distribution accross agents.\n",
    "Let, for the sake of generality, letters with a tolde denote the complete expected time series of a variable, e.g $\\tilde{x} = \\{x_{t}\\}_{t=0}^\\infty$.\n",
    "\n"
   ]
  },
  {
   "cell_type": "code",
   "execution_count": null,
   "metadata": {},
   "outputs": [],
   "source": []
  }
 ],
 "metadata": {
  "@webio": {
   "lastCommId": null,
   "lastKernelId": null
  },
  "kernelspec": {
   "display_name": "Python 3 (ipykernel)",
   "language": "python",
   "name": "python3"
  },
  "language_info": {
   "codemirror_mode": {
    "name": "ipython",
    "version": 3
   },
   "file_extension": ".py",
   "mimetype": "text/x-python",
   "name": "python",
   "nbconvert_exporter": "python",
   "pygments_lexer": "ipython3",
   "version": "3.10.4"
  }
 },
 "nbformat": 4,
 "nbformat_minor": 2
}
